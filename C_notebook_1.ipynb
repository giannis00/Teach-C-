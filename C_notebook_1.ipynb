{
  "nbformat": 4,
  "nbformat_minor": 0,
  "metadata": {
    "colab": {
      "provenance": [],
      "toc_visible": true
    },
    "kernelspec": {
      "name": "python3",
      "display_name": "Python 3"
    },
    "language_info": {
      "name": "python"
    }
  },
  "cells": [
    {
      "cell_type": "markdown",
      "source": [
        "### Introduction to C++ for Beginners\n",
        "Welcome to your first C++ notebook! This is designed for absolute beginners who have never written C++ before. We'll start with the basics and build up step by step.\n",
        "C++ is a powerful programming language used for everything from games to operating systems. It's \"compiled,\" meaning your code turns into machine instructions before running (unlike Python, which runs directly).\n",
        "How this notebook works:\n",
        "\n",
        "We'll use Python cells to write C++ code to files, compile them with g++, and run them. This is a simple way in Google Colab or Jupyter.\n",
        "Copy-paste each code block into a new cell and run it (Shift+Enter).\n",
        "Add markdown cells (Insert > Text) for your notes.\n",
        "\n",
        "Let's dive in!"
      ],
      "metadata": {
        "id": "cR1YtQHVB195"
      }
    },
    {
      "cell_type": "markdown",
      "source": [
        "Introduction to C++ for Beginners\n",
        "Welcome to your first C++ notebook! This is designed for absolute beginners who have never written C++ before. We'll start with the basics and build up step by step.\n",
        "C++ is a powerful programming language used for everything from games to operating systems. It's \"compiled,\" meaning your code turns into machine instructions before running (unlike Python, which runs directly).\n",
        "How this notebook works:\n",
        "\n",
        "We'll use Python cells to write C++ code to files, compile them with g++, and run them. This is a simple way in Google Colab or Jupyter.\n",
        "Copy-paste each code block into a new cell and run it (Shift+Enter).\n",
        "Add markdown cells (Insert > Text) for your notes.\n",
        "\n",
        "Let's dive in!"
      ],
      "metadata": {
        "id": "xdOXSoDdBtQg"
      }
    },
    {
      "cell_type": "markdown",
      "source": [
        "1. Your First Program: Hello World\n",
        "Every programmer starts with \"Hello, World!\" This program prints a message to the screen.\n",
        "Key concepts:\n",
        "\n",
        "#include <iostream> Includes the input/output library.\n",
        "\n",
        "int main() The entry point—where the program starts.\n",
        "\n",
        "std::cout << \"text\"; Prints text (cout = \"see out\").\n",
        "\n",
        "return 0; Ends the program successfully.\n",
        "\n",
        "Step 1: Write the code to a file.\n",
        "\n",
        "Step 2: Compile it.\n",
        "\n",
        "Step 3: Run it."
      ],
      "metadata": {
        "id": "JWeNWinMD3ro"
      }
    },
    {
      "cell_type": "code",
      "source": [
        "%%writefile hello.cpp\n",
        "#include <iostream>\n",
        "\n",
        "int main() {\n",
        "    std::cout << \"Hello, World!\" << std::endl;\n",
        "    return 0;\n",
        "}"
      ],
      "metadata": {
        "colab": {
          "base_uri": "https://localhost:8080/"
        },
        "id": "JMQDJw7vEM_8",
        "outputId": "d58b3952-65a3-4c25-af09-f72ef7d35439"
      },
      "execution_count": 16,
      "outputs": [
        {
          "output_type": "stream",
          "name": "stdout",
          "text": [
            "Overwriting hello.cpp\n"
          ]
        }
      ]
    },
    {
      "cell_type": "code",
      "source": [
        "!g++ hello.cpp -o hello"
      ],
      "metadata": {
        "id": "CrPuMdZpEryR"
      },
      "execution_count": 17,
      "outputs": []
    },
    {
      "cell_type": "code",
      "source": [
        "!./hello"
      ],
      "metadata": {
        "colab": {
          "base_uri": "https://localhost:8080/"
        },
        "id": "E9mdnbZHEvB1",
        "outputId": "d20a92e2-9e65-4110-85e9-04b4f1f97858"
      },
      "execution_count": 18,
      "outputs": [
        {
          "output_type": "stream",
          "name": "stdout",
          "text": [
            "Hello, World!\n"
          ]
        }
      ]
    },
    {
      "cell_type": "code",
      "source": [],
      "metadata": {
        "id": "KkJZXPVfExhd"
      },
      "execution_count": null,
      "outputs": []
    },
    {
      "cell_type": "markdown",
      "source": [
        "2. Variables and Data Types\n",
        "\n",
        "Variables store data, like boxes with labels. C++ has types like int (integers), double (decimals), char (single letters), and std::string (text).\n",
        "Key concepts:\n",
        "\n",
        "Declare: type name = value;\n",
        "\n",
        "Use << to print variables.\n",
        "\n",
        "Let's create variables for age, height, and name, then print them."
      ],
      "metadata": {
        "id": "YwBota5jE5uE"
      }
    },
    {
      "cell_type": "code",
      "source": [
        "%%writefile variables.cpp\n",
        "#include <iostream>\n",
        "#include <string>  // For std::string\n",
        "\n",
        "int main() {\n",
        "    int age = 25;              // Integer\n",
        "    double height = 5.9;       // Decimal\n",
        "    std::string name = \"Alice\"; // Text (needs #include <string>)\n",
        "\n",
        "    std::cout << \"Name: \" << name << std::endl;\n",
        "    std::cout << \"Age: \" << age << std::endl;\n",
        "    std::cout << \"Height: \" << height << \" feet\" << std::endl;\n",
        "\n",
        "    return 0;\n",
        "}"
      ],
      "metadata": {
        "colab": {
          "base_uri": "https://localhost:8080/"
        },
        "id": "RfWPR0_oFEcu",
        "outputId": "0eee18f2-c8f6-4fd5-b7f4-220cde280328"
      },
      "execution_count": 19,
      "outputs": [
        {
          "output_type": "stream",
          "name": "stdout",
          "text": [
            "Writing variables.cpp\n"
          ]
        }
      ]
    },
    {
      "cell_type": "code",
      "source": [
        "!g++ variables.cpp -o variables"
      ],
      "metadata": {
        "id": "xQFePhYhFLZd"
      },
      "execution_count": 20,
      "outputs": []
    },
    {
      "cell_type": "code",
      "source": [
        "!./variables"
      ],
      "metadata": {
        "colab": {
          "base_uri": "https://localhost:8080/"
        },
        "id": "SaBYI0zxFOjL",
        "outputId": "4b642c4d-61bc-45c1-db1a-5d2eba049eee"
      },
      "execution_count": 21,
      "outputs": [
        {
          "output_type": "stream",
          "name": "stdout",
          "text": [
            "Name: Alice\n",
            "Age: 25\n",
            "Height: 5.9 feet\n"
          ]
        }
      ]
    },
    {
      "cell_type": "code",
      "source": [],
      "metadata": {
        "id": "XOxJOWYOFn9N"
      },
      "execution_count": null,
      "outputs": []
    },
    {
      "cell_type": "code",
      "source": [
        "%%writefile input.cpp\n",
        "#include <iostream>\n",
        "#include <string>\n",
        "\n",
        "int main() {\n",
        "    std::string name;\n",
        "    int age;\n",
        "\n",
        "    std::cout << \"Enter your name: \";\n",
        "    std::cin >> name;  // Reads input\n",
        "\n",
        "    std::cout << \"Enter your age: \";\n",
        "    std::cin >> age;\n",
        "\n",
        "    std::cout << \"Hello, \" << name << \"! You are \" << age << \" years old.\" << std::endl;\n",
        "\n",
        "    return 0;\n",
        "}"
      ],
      "metadata": {
        "colab": {
          "base_uri": "https://localhost:8080/"
        },
        "id": "mBFdn53xFsN8",
        "outputId": "40547449-c637-4054-dfb5-d3221c655f34"
      },
      "execution_count": 22,
      "outputs": [
        {
          "output_type": "stream",
          "name": "stdout",
          "text": [
            "Writing input.cpp\n"
          ]
        }
      ]
    },
    {
      "cell_type": "code",
      "source": [
        "!g++ variables.cpp -o variables"
      ],
      "metadata": {
        "id": "-TMmKbFNFx0w"
      },
      "execution_count": 23,
      "outputs": []
    },
    {
      "cell_type": "code",
      "source": [
        "!./variables"
      ],
      "metadata": {
        "colab": {
          "base_uri": "https://localhost:8080/"
        },
        "id": "c8ZRWIesFyaH",
        "outputId": "7720af37-b9d8-4485-cb7e-3db644026c7d"
      },
      "execution_count": 24,
      "outputs": [
        {
          "output_type": "stream",
          "name": "stdout",
          "text": [
            "Name: Alice\n",
            "Age: 25\n",
            "Height: 5.9 feet\n"
          ]
        }
      ]
    },
    {
      "cell_type": "code",
      "source": [],
      "metadata": {
        "id": "aWov2e-4F1iJ"
      },
      "execution_count": null,
      "outputs": []
    },
    {
      "cell_type": "markdown",
      "source": [
        "3. Basic Input from User\n",
        "\n",
        "Make it interactive! Use std::cin >> variable; to read input (cin = \"see in\").\n",
        "We'll ask for your name and age, then greet you."
      ],
      "metadata": {
        "id": "GLXfVdeBHACS"
      }
    },
    {
      "cell_type": "code",
      "source": [
        "%%writefile input.cpp\n",
        "#include <iostream>\n",
        "#include <string>\n",
        "\n",
        "int main() {\n",
        "    std::string name;\n",
        "    int age;\n",
        "\n",
        "    std::cout << \"Enter your name: \";\n",
        "    std::cin >> name;  // Reads input\n",
        "\n",
        "    std::cout << \"Enter your age: \";\n",
        "    std::cin >> age;\n",
        "\n",
        "    std::cout << \"Hello, \" << name << \"! You are \" << age << \" years old.\" << std::endl;\n",
        "\n",
        "    return 0;\n",
        "}"
      ],
      "metadata": {
        "colab": {
          "base_uri": "https://localhost:8080/"
        },
        "id": "vRkMr8sVHLp_",
        "outputId": "70f14f55-6603-4cbe-99ae-36b1c029f3c3"
      },
      "execution_count": 25,
      "outputs": [
        {
          "output_type": "stream",
          "name": "stdout",
          "text": [
            "Overwriting input.cpp\n"
          ]
        }
      ]
    },
    {
      "cell_type": "code",
      "source": [
        "!g++ input.cpp -o input"
      ],
      "metadata": {
        "id": "cUuuC1mSHPcG"
      },
      "execution_count": 26,
      "outputs": []
    },
    {
      "cell_type": "code",
      "source": [
        "!./input"
      ],
      "metadata": {
        "colab": {
          "base_uri": "https://localhost:8080/"
        },
        "id": "D-qNWTv8HR3i",
        "outputId": "8ab5f3ef-4ddf-470d-9100-1f40d8c1fc62"
      },
      "execution_count": 27,
      "outputs": [
        {
          "output_type": "stream",
          "name": "stdout",
          "text": [
            "Enter your name: Giannis\n",
            "Enter your age: 35\n",
            "Hello, Giannis! You are 35 years old.\n"
          ]
        }
      ]
    },
    {
      "cell_type": "markdown",
      "source": [
        "4. Simple Function\n",
        "\n",
        "Functions are reusable code blocks. Define with return_type name(parameters) { code }.\n",
        "We'll make a function to add two numbers."
      ],
      "metadata": {
        "id": "ciW1NsTiHjLV"
      }
    },
    {
      "cell_type": "code",
      "source": [
        "%%writefile function.cpp\n",
        "#include <iostream>\n",
        "\n",
        "int add(int a, int b) {  // Function: takes two ints, returns int\n",
        "    return a + b;\n",
        "}\n",
        "\n",
        "int main() {\n",
        "    int x = 5;\n",
        "    int y = 3;\n",
        "    int result = add(x, y);  // Call the function\n",
        "\n",
        "    std::cout << x << \" + \" << y << \" = \" << result << std::endl;\n",
        "\n",
        "    return 0;\n",
        "}"
      ],
      "metadata": {
        "colab": {
          "base_uri": "https://localhost:8080/"
        },
        "id": "G9z_a73CHUcO",
        "outputId": "67f7279f-6d23-4b20-ecd9-cd3c488639ca"
      },
      "execution_count": 28,
      "outputs": [
        {
          "output_type": "stream",
          "name": "stdout",
          "text": [
            "Writing function.cpp\n"
          ]
        }
      ]
    },
    {
      "cell_type": "code",
      "source": [
        "!g++ function.cpp -o function"
      ],
      "metadata": {
        "id": "Z347Z0F-H2tU"
      },
      "execution_count": 29,
      "outputs": []
    },
    {
      "cell_type": "code",
      "source": [
        "!./function"
      ],
      "metadata": {
        "colab": {
          "base_uri": "https://localhost:8080/"
        },
        "id": "0VtdHzEwH6ln",
        "outputId": "351d0499-f761-45ba-89fe-9b5ae8fc6cf2"
      },
      "execution_count": 30,
      "outputs": [
        {
          "output_type": "stream",
          "name": "stdout",
          "text": [
            "5 + 3 = 8\n"
          ]
        }
      ]
    },
    {
      "cell_type": "markdown",
      "source": [
        "5. Loops: Repeating Code\n",
        "\n",
        "Loops run code multiple times. Use for for known times, while for conditions."
      ],
      "metadata": {
        "id": "j5I979wnICbw"
      }
    },
    {
      "cell_type": "code",
      "source": [
        "%%writefile loop.cpp\n",
        "#include <iostream>\n",
        "\n",
        "int main() {\n",
        "    // For loop: start; condition; increment\n",
        "    for (int i = 1; i <= 5; ++i) {\n",
        "        std::cout << \"Number: \" << i << std::endl;\n",
        "    }\n",
        "\n",
        "    return 0;\n",
        "}"
      ],
      "metadata": {
        "colab": {
          "base_uri": "https://localhost:8080/"
        },
        "id": "5Wkc6MwCH85Q",
        "outputId": "ba6182d0-4ba5-4928-95e0-f178d018956c"
      },
      "execution_count": 31,
      "outputs": [
        {
          "output_type": "stream",
          "name": "stdout",
          "text": [
            "Writing loop.cpp\n"
          ]
        }
      ]
    },
    {
      "cell_type": "code",
      "source": [
        "!g++ loop.cpp -o loop"
      ],
      "metadata": {
        "id": "p-BIm7LZIFvu"
      },
      "execution_count": 32,
      "outputs": []
    },
    {
      "cell_type": "code",
      "source": [
        "!./loop"
      ],
      "metadata": {
        "colab": {
          "base_uri": "https://localhost:8080/"
        },
        "id": "bt-VNj_oILI-",
        "outputId": "d818de58-a993-4ba7-b2c7-fbb3a5c8b30e"
      },
      "execution_count": 33,
      "outputs": [
        {
          "output_type": "stream",
          "name": "stdout",
          "text": [
            "Number: 1\n",
            "Number: 2\n",
            "Number: 3\n",
            "Number: 4\n",
            "Number: 5\n"
          ]
        }
      ]
    },
    {
      "cell_type": "markdown",
      "source": [
        "6. Conditionals: Making Decisions\n",
        "\n",
        "Use if/else for choices.\n",
        "Example: Check if a number is even or odd."
      ],
      "metadata": {
        "id": "AKr5NT_eIVyL"
      }
    },
    {
      "cell_type": "code",
      "source": [
        "%%writefile conditional.cpp\n",
        "#include <iostream>\n",
        "\n",
        "int main() {\n",
        "    int num = 7;  // Try changing to 8\n",
        "\n",
        "    if (num % 2 == 0) {  // % is modulo (remainder)\n",
        "        std::cout << num << \" is even.\" << std::endl;\n",
        "    } else {\n",
        "        std::cout << num << \" is odd.\" << std::endl;\n",
        "    }\n",
        "\n",
        "    return 0;\n",
        "}"
      ],
      "metadata": {
        "colab": {
          "base_uri": "https://localhost:8080/"
        },
        "id": "mP9fK5F_INis",
        "outputId": "138f45dd-2826-4e25-e6d0-d00f08d66602"
      },
      "execution_count": 34,
      "outputs": [
        {
          "output_type": "stream",
          "name": "stdout",
          "text": [
            "Writing conditional.cpp\n"
          ]
        }
      ]
    },
    {
      "cell_type": "code",
      "source": [
        "!g++ conditional.cpp -o conditional"
      ],
      "metadata": {
        "id": "VycQO8cfIaSJ"
      },
      "execution_count": 35,
      "outputs": []
    },
    {
      "cell_type": "code",
      "source": [
        "!./conditional"
      ],
      "metadata": {
        "colab": {
          "base_uri": "https://localhost:8080/"
        },
        "id": "ZwcGxIhfIebG",
        "outputId": "20711524-c260-4d6d-b767-158f1b52e1f5"
      },
      "execution_count": 36,
      "outputs": [
        {
          "output_type": "stream",
          "name": "stdout",
          "text": [
            "7 is odd.\n"
          ]
        }
      ]
    },
    {
      "cell_type": "code",
      "source": [],
      "metadata": {
        "id": "zS8Q6dR7Igne"
      },
      "execution_count": null,
      "outputs": []
    }
  ]
}